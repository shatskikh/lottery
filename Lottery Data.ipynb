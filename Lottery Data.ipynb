{
 "cells": [
  {
   "cell_type": "markdown",
   "metadata": {},
   "source": [
    "# Lottery Dataset"
   ]
  },
  {
   "cell_type": "markdown",
   "metadata": {},
   "source": [
    "## Cleaning the data"
   ]
  },
  {
   "cell_type": "markdown",
   "metadata": {},
   "source": [
    "First, we import the packages we need"
   ]
  },
  {
   "cell_type": "code",
   "execution_count": 1,
   "metadata": {},
   "outputs": [],
   "source": [
    "import pandas as pd\n",
    "import numpy as np\n",
    "import matplotlib.pyplot as plt"
   ]
  },
  {
   "cell_type": "markdown",
   "metadata": {},
   "source": [
    "Second, we import the actual dataset. The dataset comes from a txt-file which has uneven spaces between columns and a comment at the beginning. We use an argumet 'skiprows = 4' to remove the comment. "
   ]
  },
  {
   "cell_type": "code",
   "execution_count": 2,
   "metadata": {},
   "outputs": [],
   "source": [
    "data = pd.read_csv('LotteryData2.txt', sep = \" \", skiprows = 4, header = None)"
   ]
  },
  {
   "cell_type": "code",
   "execution_count": 3,
   "metadata": {},
   "outputs": [
    {
     "name": "stdout",
     "output_type": "stream",
     "text": [
      "(1391, 74)\n"
     ]
    }
   ],
   "source": [
    "print(data.shape)"
   ]
  },
  {
   "cell_type": "markdown",
   "metadata": {},
   "source": [
    "We see that the dimensions of the dataset has correct number of rows (514), however the number of columns is incorrect due to uneven number of spaces in the original file. We look at the data and see that some columns have NaN values: "
   ]
  },
  {
   "cell_type": "code",
   "execution_count": 4,
   "metadata": {},
   "outputs": [
    {
     "name": "stdout",
     "output_type": "stream",
     "text": [
      "     0   1   2   3   4     5    6    7     8   9  ...  64  65  66  67  68  69  \\\n",
      "0  1391 NaN NaN NaN NaN  Fri.  Oct  19,  2018 NaN ... NaN NaN NaN NaN   7 NaN   \n",
      "1  1390 NaN NaN NaN NaN  Tue.  Oct  16,  2018 NaN ... NaN NaN NaN NaN   9 NaN   \n",
      "2  1389 NaN NaN NaN NaN  Fri.  Oct  12,  2018 NaN ... NaN NaN NaN NaN   7 NaN   \n",
      "3  1388 NaN NaN NaN NaN  Tue.  Oct  09,  2018 NaN ... NaN NaN NaN NaN  18 NaN   \n",
      "4  1387 NaN NaN NaN NaN  Fri.  Oct  05,  2018 NaN ... NaN NaN NaN NaN  12 NaN   \n",
      "\n",
      "   70  71  72  73  \n",
      "0 NaN NaN NaN NaN  \n",
      "1 NaN NaN NaN NaN  \n",
      "2 NaN NaN NaN NaN  \n",
      "3 NaN NaN NaN NaN  \n",
      "4 NaN NaN NaN NaN  \n",
      "\n",
      "[5 rows x 74 columns]\n"
     ]
    }
   ],
   "source": [
    "print(data.head())"
   ]
  },
  {
   "cell_type": "markdown",
   "metadata": {},
   "source": [
    "We remove columns with NaNs using .dropna() method. "
   ]
  },
  {
   "cell_type": "code",
   "execution_count": 5,
   "metadata": {},
   "outputs": [
    {
     "name": "stdout",
     "output_type": "stream",
     "text": [
      "     0     5    6    7     8   18  28  38  48  58  68\n",
      "0  1391  Fri.  Oct  19,  2018  65  53  23  15  70   7\n",
      "1  1390  Tue.  Oct  16,  2018  69  45  61   3  49   9\n",
      "2  1389  Fri.  Oct  12,  2018  70  24  46   4  61   7\n",
      "3  1388  Tue.  Oct  09,  2018  54  22  39  20  60  18\n",
      "4  1387  Fri.  Oct  05,  2018  41  32  27  69  28  12\n",
      "(1391, 11)\n"
     ]
    }
   ],
   "source": [
    "data = data.dropna(axis = 1, how = 'all')\n",
    "print(data.head())\n",
    "print(data.shape)"
   ]
  },
  {
   "cell_type": "code",
   "execution_count": 6,
   "metadata": {},
   "outputs": [],
   "source": [
    "data.columns = ['Draw','WeekDay', 'Month', 'Day', 'Year', '1', '2', '3', '4', '5', 'Mega']"
   ]
  },
  {
   "cell_type": "code",
   "execution_count": 7,
   "metadata": {},
   "outputs": [
    {
     "name": "stdout",
     "output_type": "stream",
     "text": [
      "   Draw WeekDay Month  Day  Year   1   2   3   4   5  Mega\n",
      "0  1391    Fri.   Oct  19,  2018  65  53  23  15  70     7\n",
      "1  1390    Tue.   Oct  16,  2018  69  45  61   3  49     9\n",
      "2  1389    Fri.   Oct  12,  2018  70  24  46   4  61     7\n",
      "3  1388    Tue.   Oct  09,  2018  54  22  39  20  60    18\n",
      "4  1387    Fri.   Oct  05,  2018  41  32  27  69  28    12\n"
     ]
    }
   ],
   "source": [
    "print(data.head())"
   ]
  },
  {
   "cell_type": "code",
   "execution_count": 8,
   "metadata": {},
   "outputs": [
    {
     "name": "stdout",
     "output_type": "stream",
     "text": [
      "   Draw WeekDay Month Day  Year   1   2   3   4   5  Mega\n",
      "0  1391    Fri.   Oct  19  2018  65  53  23  15  70     7\n",
      "1  1390    Tue.   Oct  16  2018  69  45  61   3  49     9\n",
      "2  1389    Fri.   Oct  12  2018  70  24  46   4  61     7\n",
      "3  1388    Tue.   Oct  09  2018  54  22  39  20  60    18\n",
      "4  1387    Fri.   Oct  05  2018  41  32  27  69  28    12\n"
     ]
    }
   ],
   "source": [
    "data['Day'] = data['Day'].apply(lambda x: str(x).rstrip(','))\n",
    "print(data.head())"
   ]
  },
  {
   "cell_type": "code",
   "execution_count": 9,
   "metadata": {},
   "outputs": [],
   "source": [
    "from time import strptime\n",
    "data['Month'] = data['Month'].apply(lambda x: strptime(x,'%b').tm_mon)\n"
   ]
  },
  {
   "cell_type": "code",
   "execution_count": 10,
   "metadata": {},
   "outputs": [
    {
     "name": "stdout",
     "output_type": "stream",
     "text": [
      "<class 'pandas.core.frame.DataFrame'>\n",
      "RangeIndex: 1391 entries, 0 to 1390\n",
      "Data columns (total 9 columns):\n",
      "Draw       1391 non-null int64\n",
      "WeekDay    1391 non-null object\n",
      "1          1391 non-null int64\n",
      "2          1391 non-null int64\n",
      "3          1391 non-null int64\n",
      "4          1391 non-null int64\n",
      "5          1391 non-null int64\n",
      "Mega       1391 non-null int64\n",
      "Date       1391 non-null datetime64[ns]\n",
      "dtypes: datetime64[ns](1), int64(7), object(1)\n",
      "memory usage: 97.9+ KB\n",
      "None\n"
     ]
    }
   ],
   "source": [
    "data['Date'] = pd.to_datetime(data[['Year', 'Month', 'Day']], format = '%Y%M%D')\n",
    "data = data.drop(['Year', 'Month', 'Day'], axis =1)\n",
    "print(data.info())"
   ]
  },
  {
   "cell_type": "code",
   "execution_count": 11,
   "metadata": {},
   "outputs": [
    {
     "name": "stdout",
     "output_type": "stream",
     "text": [
      "   Draw       Date   1   2   3   4   5  Mega\n",
      "0  1391 2018-10-19  65  53  23  15  70     7\n",
      "1  1390 2018-10-16  69  45  61   3  49     9\n",
      "2  1389 2018-10-12  70  24  46   4  61     7\n",
      "3  1388 2018-10-09  54  22  39  20  60    18\n",
      "4  1387 2018-10-05  41  32  27  69  28    12\n"
     ]
    }
   ],
   "source": [
    "data = data[['Draw','Date', '1', '2', '3', '4', '5', 'Mega']]\n",
    "print(data.head())"
   ]
  },
  {
   "cell_type": "markdown",
   "metadata": {},
   "source": [
    "The data is clean. \n",
    "However the lottery rules change:\n",
    "- the Powerball data on Oct 7, 2015. \n",
    "- the Mega Millions on Oct 31, 2017.\n",
    "So we need to remove all the data prior to this time. "
   ]
  },
  {
   "cell_type": "code",
   "execution_count": 12,
   "metadata": {},
   "outputs": [],
   "source": [
    "data_s = data[data['Date'] >= '2017-10-31'] #\n",
    "data_s = data_s.set_index('Date')"
   ]
  },
  {
   "cell_type": "code",
   "execution_count": 13,
   "metadata": {},
   "outputs": [
    {
     "name": "stdout",
     "output_type": "stream",
     "text": [
      "            Draw   1   2   3   4   5  Mega\n",
      "Date                                      \n",
      "2018-10-19  1391  15  23  53  65  70     7\n",
      "2018-10-16  1390   3  45  49  61  69     9\n",
      "2018-10-12  1389   4  24  46  61  70     7\n",
      "2018-10-09  1388  20  22  39  54  60    18\n",
      "2018-10-05  1387  27  28  32  41  69    12\n"
     ]
    }
   ],
   "source": [
    "data_s[[ '1', '2', '3', '4', '5']] = data_s[[ '1', '2', '3', '4', '5']].apply(np.sort, axis = 1) \n",
    "print(data_s.head())"
   ]
  },
  {
   "cell_type": "markdown",
   "metadata": {},
   "source": [
    "# Analyzing the data\n",
    "\n",
    "First we plot the histogram of all Mega balls"
   ]
  },
  {
   "cell_type": "code",
   "execution_count": 14,
   "metadata": {},
   "outputs": [
    {
     "name": "stdout",
     "output_type": "stream",
     "text": [
      "22    7\n",
      "9     7\n",
      "1     6\n",
      "20    6\n",
      "11    6\n",
      "23    5\n",
      "2     5\n",
      "3     5\n",
      "17    5\n",
      "14    5\n",
      "12    4\n",
      "7     4\n",
      "10    4\n",
      "13    4\n",
      "24    4\n",
      "19    4\n",
      "16    3\n",
      "8     3\n",
      "4     3\n",
      "25    3\n",
      "15    2\n",
      "18    2\n",
      "6     2\n",
      "21    2\n",
      "5     1\n",
      "Name: Mega, dtype: int64\n"
     ]
    }
   ],
   "source": [
    "frequency_Mega = data_s.Mega.value_counts()\n",
    "print(frequency_Mega)"
   ]
  },
  {
   "cell_type": "code",
   "execution_count": 107,
   "metadata": {},
   "outputs": [
    {
     "data": {
      "image/png": "[encoded data removed]",
      "text/plain": [
       "<Figure size 432x288 with 1 Axes>"
      ]
     },
     "metadata": {},
     "output_type": "display_data"
    }
   ],
   "source": [
    "keys = []\n",
    "values = []\n",
    "for key, value in frequency_Mega.iteritems():\n",
    "    keys.append(key)\n",
    "    values.append(value)\n",
    "plt.bar(keys, values)\n",
    "plt.title('Bar Plot of Mega Balls')\n",
    "plt.show()"
   ]
  },
  {
   "cell_type": "code",
   "execution_count": 108,
   "metadata": {},
   "outputs": [
    {
     "data": {
      "image/png": "[encoded data removed]",
      "text/plain": [
       "<Figure size 432x288 with 1 Axes>"
      ]
     },
     "metadata": {},
     "output_type": "display_data"
    }
   ],
   "source": [
    "plt.hist(data_s.Mega, bins=26)\n",
    "plt.title('Histogram of Mega Balls')\n",
    "plt.show()"
   ]
  },
  {
   "cell_type": "code",
   "execution_count": 105,
   "metadata": {},
   "outputs": [],
   "source": [
    "balls = data_s[['1', '2', '3', '4', '5']].values.flatten()\n",
    "unique, counts = np.unique(balls, return_counts=True)\n",
    "percentages = counts/counts.sum() \n",
    "perc_cumsum = np.cumsum(percentages)\n",
    "\n",
    "\n",
    "#print(np.asarray((unique, counts)).T)"
   ]
  },
  {
   "cell_type": "code",
   "execution_count": 109,
   "metadata": {},
   "outputs": [
    {
     "data": {
      "image/png": "[encoded data removed]",
      "text/plain": [
       "<Figure size 432x288 with 1 Axes>"
      ]
     },
     "metadata": {},
     "output_type": "display_data"
    }
   ],
   "source": [
    "plt.hist(balls, bins = 70)\n",
    "plt.title('Histogram of Balls')\n",
    "plt.show()"
   ]
  },
  {
   "cell_type": "code",
   "execution_count": 106,
   "metadata": {},
   "outputs": [
    {
     "name": "stderr",
     "output_type": "stream",
     "text": [
      "No handles with labels found to put in legend.\n"
     ]
    },
    {
     "data": {
      "image/png": "[encoded data removed]",
      "text/plain": [
       "<Figure size 432x288 with 1 Axes>"
      ]
     },
     "metadata": {},
     "output_type": "display_data"
    }
   ],
   "source": [
    "plt.plot(data_s[['1', '2', '3', '4', '5']],linestyle=\"\",marker=\"o\")\n",
    "plt.show()"
   ]
  },
  {
   "cell_type": "markdown",
   "metadata": {},
   "source": [
    "# Code to generate lottery numbers"
   ]
  },
  {
   "cell_type": "code",
   "execution_count": null,
   "metadata": {},
   "outputs": [],
   "source": [
    "from random import random\n",
    "\n",
    "def lottery_generate (previous_data = data_s):\n",
    "    balls = previous_data[['1', '2', '3', '4', '5']].values.flatten()\n",
    "    \n",
    "    unique, counts = np.unique(balls, return_counts=True)\n",
    "\n",
    "    list_numbers = []\n",
    "    for iteration in range(5):\n",
    "        percentages = counts/counts.sum() \n",
    "        perc_cumsum = np.cumsum(percentages)\n",
    "        # Generate a random number from uniform:\n",
    "        rand_unif = random()\n",
    "        # Finding an index and the number itself from our discrete distribution\n",
    "        index = np.where(perc_cumsum < rand_unif)[0][-1] +1\n",
    "        number = unique[index]\n",
    "        list_numbers.append(number)\n",
    "        # removing the previuous number from counts\n",
    "        counts = np.delete(counts, index)\n",
    "        unique = np.delete(unique, index)\n",
    "    \n",
    "    list_numbers.sort()\n",
    "    \n",
    "    unique, counts = np.unique(data_s.Mega.values, return_counts=True)\n",
    "    percentages = counts/counts.sum() \n",
    "    perc_cumsum = np.cumsum(percentages)\n",
    "    # Generate a random number from uniform:\n",
    "    rand_unif = random()\n",
    "    # Finding an index and the number itself from our discrete distribution\n",
    "    index = np.where(perc_cumsum < rand_unif)[0][-1] +1\n",
    "    megaball = unique[index]\n",
    "        \n",
    "    return [list_numbers, megaball]"
   ]
  },
  {
   "cell_type": "code",
   "execution_count": null,
   "metadata": {},
   "outputs": [],
   "source": [
    "print(lottery_generate())"
   ]
  }
 ],
 "metadata": {
  "kernelspec": {
   "display_name": "Python 3",
   "language": "python",
   "name": "python3"
  },
  "language_info": {
   "codemirror_mode": {
    "name": "ipython",
    "version": 3
   },
   "file_extension": ".py",
   "mimetype": "text/x-python",
   "name": "python",
   "nbconvert_exporter": "python",
   "pygments_lexer": "ipython3",
   "version": "3.6.4"
  }
 },
 "nbformat": 4,
 "nbformat_minor": 2
}
