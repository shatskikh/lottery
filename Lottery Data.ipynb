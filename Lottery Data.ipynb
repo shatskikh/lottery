{
 "cells": [
  {
   "cell_type": "markdown",
   "metadata": {},
   "source": [
    "# Lottery Dataset"
   ]
  },
  {
   "cell_type": "markdown",
   "metadata": {},
   "source": [
    "## Cleaning the data"
   ]
  },
  {
   "cell_type": "markdown",
   "metadata": {},
   "source": [
    "First, we import the packages we need"
   ]
  },
  {
   "cell_type": "code",
   "execution_count": 13,
   "metadata": {},
   "outputs": [
    {
     "name": "stderr",
     "output_type": "stream",
     "text": [
      "/Library/Frameworks/Python.framework/Versions/3.6/lib/python3.6/site-packages/matplotlib/font_manager.py:278: UserWarning: Matplotlib is building the font cache using fc-list. This may take a moment.\n",
      "  'Matplotlib is building the font cache using fc-list. '\n"
     ]
    }
   ],
   "source": [
    "import pandas as pd\n",
    "import matplotlib.pyplot as plt"
   ]
  },
  {
   "cell_type": "markdown",
   "metadata": {},
   "source": [
    "Second, we import the actual dataset. The dataset comes from a txt-file which has uneven spaces between columns and a comment at the beginning. We use an argumet 'skiprows = 4' to remove the comment. "
   ]
  },
  {
   "cell_type": "code",
   "execution_count": 35,
   "metadata": {},
   "outputs": [],
   "source": [
    "data = pd.read_csv('LotteryData.txt', sep = \" \", skiprows = 4, header = None, index_col = 0)"
   ]
  },
  {
   "cell_type": "code",
   "execution_count": 36,
   "metadata": {},
   "outputs": [
    {
     "name": "stdout",
     "output_type": "stream",
     "text": [
      "(514, 73)\n"
     ]
    }
   ],
   "source": [
    "print(data.shape)"
   ]
  },
  {
   "cell_type": "markdown",
   "metadata": {},
   "source": [
    "We see that the dimensions of the dataset has correct number of rows (514), however the number of columns is incorrect due to uneven number of spaces in the original file. We look at the data and see that some columns have NaN values: "
   ]
  },
  {
   "cell_type": "code",
   "execution_count": 37,
   "metadata": {},
   "outputs": [
    {
     "name": "stdout",
     "output_type": "stream",
     "text": [
      "     1   2   3   4     5    6    7     8   9   10 ...  64  65  66  67  68  69  \\\n",
      "0                                                 ...                           \n",
      "514 NaN NaN NaN NaN  Sat.  Mar  10,  2018 NaN NaN ... NaN NaN NaN NaN  22 NaN   \n",
      "513 NaN NaN NaN NaN  Wed.  Mar  07,  2018 NaN NaN ... NaN NaN NaN NaN  18 NaN   \n",
      "512 NaN NaN NaN NaN  Sat.  Mar  03,  2018 NaN NaN ... NaN NaN NaN NaN   5 NaN   \n",
      "511 NaN NaN NaN NaN  Wed.  Feb  28,  2018 NaN NaN ... NaN NaN NaN NaN  16 NaN   \n",
      "510 NaN NaN NaN NaN  Sat.  Feb  24,  2018 NaN NaN ... NaN NaN NaN NaN   6 NaN   \n",
      "\n",
      "     70  71  72  73  \n",
      "0                    \n",
      "514 NaN NaN NaN NaN  \n",
      "513 NaN NaN NaN NaN  \n",
      "512 NaN NaN NaN NaN  \n",
      "511 NaN NaN NaN NaN  \n",
      "510 NaN NaN NaN NaN  \n",
      "\n",
      "[5 rows x 73 columns]\n"
     ]
    }
   ],
   "source": [
    "print(data.head())"
   ]
  },
  {
   "cell_type": "markdown",
   "metadata": {},
   "source": [
    "We remove columns with NaNs using .dropna() method. "
   ]
  },
  {
   "cell_type": "code",
   "execution_count": 38,
   "metadata": {},
   "outputs": [
    {
     "name": "stdout",
     "output_type": "stream",
     "text": [
      "       5    6    7     8   18  28  38  48  58  68\n",
      "0                                                \n",
      "514  Sat.  Mar  10,  2018  43  44  54  61  69  22\n",
      "513  Wed.  Mar  07,  2018   6  13  19  36  51  18\n",
      "512  Sat.  Mar  03,  2018  13  17  25  36  40   5\n",
      "511  Wed.  Feb  28,  2018  12  30  59  65  69  16\n",
      "510  Sat.  Feb  24,  2018  24  25  38  62  63   6\n",
      "(514, 10)\n"
     ]
    }
   ],
   "source": [
    "data = data.dropna(axis = 1, how = 'all')\n",
    "print(data.head())\n",
    "print(data.shape)"
   ]
  },
  {
   "cell_type": "code",
   "execution_count": 39,
   "metadata": {},
   "outputs": [],
   "source": [
    "data.columns = ['WeekDay', 'Month', 'Day', 'Year', '1', '2', '3', '4', '5', 'PB']\n",
    "data.index.name = 'Draw'"
   ]
  },
  {
   "cell_type": "code",
   "execution_count": 40,
   "metadata": {},
   "outputs": [
    {
     "name": "stdout",
     "output_type": "stream",
     "text": [
      "     WeekDay Month  Day  Year   1   2   3   4   5  PB\n",
      "Draw                                                 \n",
      "514     Sat.   Mar  10,  2018  43  44  54  61  69  22\n",
      "513     Wed.   Mar  07,  2018   6  13  19  36  51  18\n",
      "512     Sat.   Mar  03,  2018  13  17  25  36  40   5\n",
      "511     Wed.   Feb  28,  2018  12  30  59  65  69  16\n",
      "510     Sat.   Feb  24,  2018  24  25  38  62  63   6\n"
     ]
    }
   ],
   "source": [
    "print(data.head())"
   ]
  },
  {
   "cell_type": "code",
   "execution_count": 41,
   "metadata": {},
   "outputs": [
    {
     "name": "stdout",
     "output_type": "stream",
     "text": [
      "     WeekDay Month Day  Year   1   2   3   4   5  PB\n",
      "Draw                                                \n",
      "514     Sat.   Mar  10  2018  43  44  54  61  69  22\n",
      "513     Wed.   Mar  07  2018   6  13  19  36  51  18\n",
      "512     Sat.   Mar  03  2018  13  17  25  36  40   5\n",
      "511     Wed.   Feb  28  2018  12  30  59  65  69  16\n",
      "510     Sat.   Feb  24  2018  24  25  38  62  63   6\n"
     ]
    }
   ],
   "source": [
    "data['Day'] = data['Day'].apply(lambda x: str(x).rstrip(','))\n",
    "print(data.head())"
   ]
  },
  {
   "cell_type": "code",
   "execution_count": 42,
   "metadata": {},
   "outputs": [],
   "source": [
    "from time import strptime\n",
    "\n",
    "data['Month'] = data['Month'].apply(lambda x: strptime(x,'%b').tm_mon)\n"
   ]
  },
  {
   "cell_type": "code",
   "execution_count": 43,
   "metadata": {},
   "outputs": [
    {
     "name": "stdout",
     "output_type": "stream",
     "text": [
      "<class 'pandas.core.frame.DataFrame'>\n",
      "Int64Index: 514 entries, 514 to 1\n",
      "Data columns (total 8 columns):\n",
      "WeekDay    514 non-null object\n",
      "1          514 non-null int64\n",
      "2          514 non-null int64\n",
      "3          514 non-null int64\n",
      "4          514 non-null int64\n",
      "5          514 non-null int64\n",
      "PB         514 non-null int64\n",
      "Date       514 non-null datetime64[ns]\n",
      "dtypes: datetime64[ns](1), int64(6), object(1)\n",
      "memory usage: 36.1+ KB\n",
      "None\n"
     ]
    }
   ],
   "source": [
    "data['Date'] = pd.to_datetime(data[['Year', 'Month', 'Day']], format = '%Y%M%D')\n",
    "data = data.drop(['Year', 'Month', 'Day'], axis =1)\n",
    "print(data.info())"
   ]
  },
  {
   "cell_type": "code",
   "execution_count": 44,
   "metadata": {},
   "outputs": [
    {
     "name": "stdout",
     "output_type": "stream",
     "text": [
      "           Date   1   2   3   4   5  PB\n",
      "Draw                                   \n",
      "514  2018-03-10  43  44  54  61  69  22\n",
      "513  2018-03-07   6  13  19  36  51  18\n",
      "512  2018-03-03  13  17  25  36  40   5\n",
      "511  2018-02-28  12  30  59  65  69  16\n",
      "510  2018-02-24  24  25  38  62  63   6\n"
     ]
    }
   ],
   "source": [
    "data = data[['Date', '1', '2', '3', '4', '5', 'PB']]\n",
    "print(data.head())"
   ]
  },
  {
   "cell_type": "markdown",
   "metadata": {},
   "source": [
    "The data is clean.\n",
    "However the data before Oct 2015 is inadmissable since the rules of the lottery changed. So we need to remove all the data prior to this time. "
   ]
  },
  {
   "cell_type": "code",
   "execution_count": 45,
   "metadata": {},
   "outputs": [],
   "source": [
    "data = data[data['Date'] >= '2015-10-07']"
   ]
  },
  {
   "cell_type": "markdown",
   "metadata": {},
   "source": [
    "# Analyzing the data\n",
    "\n",
    "First we plot the histogram of all Powerballs"
   ]
  },
  {
   "cell_type": "code",
   "execution_count": 62,
   "metadata": {},
   "outputs": [
    {
     "name": "stdout",
     "output_type": "stream",
     "text": [
      "9     15\n",
      "6     13\n",
      "10    12\n",
      "24    12\n",
      "22    12\n",
      "21    12\n",
      "13    11\n",
      "3     11\n",
      "19    11\n",
      "25    11\n",
      "4     10\n",
      "5     10\n",
      "17    10\n",
      "15    10\n",
      "8     10\n",
      "12    10\n",
      "26     9\n",
      "11     9\n",
      "20     9\n",
      "7      8\n",
      "16     8\n",
      "2      8\n",
      "18     7\n",
      "1      7\n",
      "23     6\n",
      "14     3\n",
      "Name: PB, dtype: int64\n"
     ]
    }
   ],
   "source": [
    "frequency_PB = data.PB.value_counts()\n",
    "print(frequency_PB)"
   ]
  },
  {
   "cell_type": "code",
   "execution_count": 67,
   "metadata": {},
   "outputs": [
    {
     "data": {
      "image/png": "[encoded data removed]",
      "text/plain": [
       "<Figure size 432x288 with 1 Axes>"
      ]
     },
     "metadata": {},
     "output_type": "display_data"
    }
   ],
   "source": [
    "keys = []\n",
    "values = []\n",
    "for key, value in frequency_PB.iteritems():\n",
    "    keys.append(key)\n",
    "    values.append(value)\n",
    "plt.bar(keys, values)\n",
    "plt.show()"
   ]
  },
  {
   "cell_type": "code",
   "execution_count": 72,
   "metadata": {},
   "outputs": [
    {
     "data": {
      "image/png": "[encoded data removed]",
      "text/plain": [
       "<Figure size 432x288 with 1 Axes>"
      ]
     },
     "metadata": {},
     "output_type": "display_data"
    }
   ],
   "source": [
    "plt.hist(data.PB, bins=26)\n",
    "plt.show()"
   ]
  },
  {
   "cell_type": "code",
   "execution_count": null,
   "metadata": {},
   "outputs": [],
   "source": []
  }
 ],
 "metadata": {
  "kernelspec": {
   "display_name": "Python 3",
   "language": "python",
   "name": "python3"
  },
  "language_info": {
   "codemirror_mode": {
    "name": "ipython",
    "version": 3
   },
   "file_extension": ".py",
   "mimetype": "text/x-python",
   "name": "python",
   "nbconvert_exporter": "python",
   "pygments_lexer": "ipython3",
   "version": "3.6.4"
  }
 },
 "nbformat": 4,
 "nbformat_minor": 2
}
