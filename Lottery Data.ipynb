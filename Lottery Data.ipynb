{
 "cells": [
  {
   "cell_type": "markdown",
   "metadata": {},
   "source": [
    "# Lottery Dataset"
   ]
  },
  {
   "cell_type": "markdown",
   "metadata": {},
   "source": [
    "## Cleaning the data"
   ]
  },
  {
   "cell_type": "markdown",
   "metadata": {},
   "source": [
    "First, we import the packages we need"
   ]
  },
  {
   "cell_type": "code",
   "execution_count": 93,
   "metadata": {},
   "outputs": [],
   "source": [
    "import pandas as pd\n",
    "import numpy as np\n",
    "import matplotlib.pyplot as plt"
   ]
  },
  {
   "cell_type": "markdown",
   "metadata": {},
   "source": [
    "Second, we import the actual dataset. The dataset comes from a txt-file which has uneven spaces between columns and a comment at the beginning. We use an argumet 'skiprows = 4' to remove the comment. "
   ]
  },
  {
   "cell_type": "code",
   "execution_count": 118,
   "metadata": {},
   "outputs": [],
   "source": [
    "data = pd.read_csv('LotteryData2.txt', sep = \" \", skiprows = 4, header = None)"
   ]
  },
  {
   "cell_type": "code",
   "execution_count": 119,
   "metadata": {},
   "outputs": [
    {
     "name": "stdout",
     "output_type": "stream",
     "text": [
      "(1329, 74)\n"
     ]
    }
   ],
   "source": [
    "print(data.shape)"
   ]
  },
  {
   "cell_type": "markdown",
   "metadata": {},
   "source": [
    "We see that the dimensions of the dataset has correct number of rows (514), however the number of columns is incorrect due to uneven number of spaces in the original file. We look at the data and see that some columns have NaN values: "
   ]
  },
  {
   "cell_type": "code",
   "execution_count": 120,
   "metadata": {},
   "outputs": [
    {
     "name": "stdout",
     "output_type": "stream",
     "text": [
      "     0   1   2   3   4     5    6    7     8   9  ...  64  65  66  67  68  69  \\\n",
      "0  1329 NaN NaN NaN NaN  Fri.  Mar  16,  2018 NaN ... NaN NaN NaN NaN  11 NaN   \n",
      "1  1328 NaN NaN NaN NaN  Tue.  Mar  13,  2018 NaN ... NaN NaN NaN NaN  17 NaN   \n",
      "2  1327 NaN NaN NaN NaN  Fri.  Mar  09,  2018 NaN ... NaN NaN NaN NaN  22 NaN   \n",
      "3  1326 NaN NaN NaN NaN  Tue.  Mar  06,  2018 NaN ... NaN NaN NaN NaN  22 NaN   \n",
      "4  1325 NaN NaN NaN NaN  Fri.  Mar  02,  2018 NaN ... NaN NaN NaN NaN   8 NaN   \n",
      "\n",
      "   70  71  72  73  \n",
      "0 NaN NaN NaN NaN  \n",
      "1 NaN NaN NaN NaN  \n",
      "2 NaN NaN NaN NaN  \n",
      "3 NaN NaN NaN NaN  \n",
      "4 NaN NaN NaN NaN  \n",
      "\n",
      "[5 rows x 74 columns]\n"
     ]
    }
   ],
   "source": [
    "print(data.head())"
   ]
  },
  {
   "cell_type": "markdown",
   "metadata": {},
   "source": [
    "We remove columns with NaNs using .dropna() method. "
   ]
  },
  {
   "cell_type": "code",
   "execution_count": 121,
   "metadata": {},
   "outputs": [
    {
     "name": "stdout",
     "output_type": "stream",
     "text": [
      "     0     5    6    7     8   18  28  38  48  58  68\n",
      "0  1329  Fri.  Mar  16,  2018  26  52  33   1  13  11\n",
      "1  1328  Tue.  Mar  13,  2018   6  30  61  60  58  17\n",
      "2  1327  Fri.  Mar  09,  2018  18  46  17  66   7  22\n",
      "3  1326  Tue.  Mar  06,  2018   1   4  39  35  26  22\n",
      "4  1325  Fri.  Mar  02,  2018  60  64  28  24  42   8\n",
      "(1329, 11)\n"
     ]
    }
   ],
   "source": [
    "data = data.dropna(axis = 1, how = 'all')\n",
    "print(data.head())\n",
    "print(data.shape)"
   ]
  },
  {
   "cell_type": "code",
   "execution_count": 122,
   "metadata": {},
   "outputs": [],
   "source": [
    "data.columns = ['Draw','WeekDay', 'Month', 'Day', 'Year', '1', '2', '3', '4', '5', 'Mega']"
   ]
  },
  {
   "cell_type": "code",
   "execution_count": 123,
   "metadata": {},
   "outputs": [
    {
     "name": "stdout",
     "output_type": "stream",
     "text": [
      "   Draw WeekDay Month  Day  Year   1   2   3   4   5  Mega\n",
      "0  1329    Fri.   Mar  16,  2018  26  52  33   1  13    11\n",
      "1  1328    Tue.   Mar  13,  2018   6  30  61  60  58    17\n",
      "2  1327    Fri.   Mar  09,  2018  18  46  17  66   7    22\n",
      "3  1326    Tue.   Mar  06,  2018   1   4  39  35  26    22\n",
      "4  1325    Fri.   Mar  02,  2018  60  64  28  24  42     8\n"
     ]
    }
   ],
   "source": [
    "print(data.head())"
   ]
  },
  {
   "cell_type": "code",
   "execution_count": 124,
   "metadata": {},
   "outputs": [
    {
     "name": "stdout",
     "output_type": "stream",
     "text": [
      "   Draw WeekDay Month Day  Year   1   2   3   4   5  Mega\n",
      "0  1329    Fri.   Mar  16  2018  26  52  33   1  13    11\n",
      "1  1328    Tue.   Mar  13  2018   6  30  61  60  58    17\n",
      "2  1327    Fri.   Mar  09  2018  18  46  17  66   7    22\n",
      "3  1326    Tue.   Mar  06  2018   1   4  39  35  26    22\n",
      "4  1325    Fri.   Mar  02  2018  60  64  28  24  42     8\n"
     ]
    }
   ],
   "source": [
    "data['Day'] = data['Day'].apply(lambda x: str(x).rstrip(','))\n",
    "print(data.head())"
   ]
  },
  {
   "cell_type": "code",
   "execution_count": 125,
   "metadata": {},
   "outputs": [],
   "source": [
    "from time import strptime\n",
    "data['Month'] = data['Month'].apply(lambda x: strptime(x,'%b').tm_mon)\n"
   ]
  },
  {
   "cell_type": "code",
   "execution_count": 126,
   "metadata": {},
   "outputs": [
    {
     "name": "stdout",
     "output_type": "stream",
     "text": [
      "<class 'pandas.core.frame.DataFrame'>\n",
      "RangeIndex: 1329 entries, 0 to 1328\n",
      "Data columns (total 9 columns):\n",
      "Draw       1329 non-null int64\n",
      "WeekDay    1329 non-null object\n",
      "1          1329 non-null int64\n",
      "2          1329 non-null int64\n",
      "3          1329 non-null int64\n",
      "4          1329 non-null int64\n",
      "5          1329 non-null int64\n",
      "Mega       1329 non-null int64\n",
      "Date       1329 non-null datetime64[ns]\n",
      "dtypes: datetime64[ns](1), int64(7), object(1)\n",
      "memory usage: 93.5+ KB\n",
      "None\n"
     ]
    }
   ],
   "source": [
    "data['Date'] = pd.to_datetime(data[['Year', 'Month', 'Day']], format = '%Y%M%D')\n",
    "data = data.drop(['Year', 'Month', 'Day'], axis =1)\n",
    "print(data.info())"
   ]
  },
  {
   "cell_type": "code",
   "execution_count": 127,
   "metadata": {},
   "outputs": [
    {
     "name": "stdout",
     "output_type": "stream",
     "text": [
      "   Draw       Date   1   2   3   4   5  Mega\n",
      "0  1329 2018-03-16  26  52  33   1  13    11\n",
      "1  1328 2018-03-13   6  30  61  60  58    17\n",
      "2  1327 2018-03-09  18  46  17  66   7    22\n",
      "3  1326 2018-03-06   1   4  39  35  26    22\n",
      "4  1325 2018-03-02  60  64  28  24  42     8\n"
     ]
    }
   ],
   "source": [
    "data = data[['Draw','Date', '1', '2', '3', '4', '5', 'Mega']]\n",
    "print(data.head())"
   ]
  },
  {
   "cell_type": "markdown",
   "metadata": {},
   "source": [
    "The data is clean. \n",
    "However the lottery rules change:\n",
    "- the Powerball data on Oct 7, 2015. \n",
    "- the Mega Millions on Oct 31, 2017.\n",
    "So we need to remove all the data prior to this time. "
   ]
  },
  {
   "cell_type": "code",
   "execution_count": 129,
   "metadata": {},
   "outputs": [],
   "source": [
    "data_s = data[data['Date'] >= '2017-10-31'] #\n",
    "data_s = data_s.set_index('Date')\n"
   ]
  },
  {
   "cell_type": "markdown",
   "metadata": {},
   "source": [
    "# Analyzing the data\n",
    "\n",
    "First we plot the histogram of all Mega balls"
   ]
  },
  {
   "cell_type": "code",
   "execution_count": 130,
   "metadata": {},
   "outputs": [
    {
     "name": "stdout",
     "output_type": "stream",
     "text": [
      "22    5\n",
      "24    4\n",
      "23    3\n",
      "25    2\n",
      "3     2\n",
      "7     2\n",
      "8     2\n",
      "9     2\n",
      "11    2\n",
      "1     2\n",
      "14    2\n",
      "16    2\n",
      "19    2\n",
      "15    1\n",
      "10    1\n",
      "17    1\n",
      "18    1\n",
      "5     1\n",
      "4     1\n",
      "2     1\n",
      "12    1\n",
      "Name: Mega, dtype: int64\n"
     ]
    }
   ],
   "source": [
    "frequency_Mega = data_s.Mega.value_counts()\n",
    "print(frequency_Mega)"
   ]
  },
  {
   "cell_type": "code",
   "execution_count": 131,
   "metadata": {},
   "outputs": [
    {
     "data": {
      "image/png": "[encoded data removed]",
      "text/plain": [
       "<Figure size 432x288 with 1 Axes>"
      ]
     },
     "metadata": {},
     "output_type": "display_data"
    }
   ],
   "source": [
    "keys = []\n",
    "values = []\n",
    "for key, value in frequency_Mega.iteritems():\n",
    "    keys.append(key)\n",
    "    values.append(value)\n",
    "plt.bar(keys, values)\n",
    "plt.show()"
   ]
  },
  {
   "cell_type": "code",
   "execution_count": 132,
   "metadata": {},
   "outputs": [
    {
     "data": {
      "image/png": "[encoded data removed]",
      "text/plain": [
       "<Figure size 432x288 with 1 Axes>"
      ]
     },
     "metadata": {},
     "output_type": "display_data"
    }
   ],
   "source": [
    "plt.hist(data_s.Mega, bins=26)\n",
    "plt.show()"
   ]
  },
  {
   "cell_type": "code",
   "execution_count": 133,
   "metadata": {},
   "outputs": [
    {
     "name": "stdout",
     "output_type": "stream",
     "text": [
      "[[ 1  2  3  4  5  6  7  8 10 11 12 13 14 15 16 17 18 19 20 21 22 23 24 25\n",
      "  26 27 28 29 30 31 33 34 35 36 37 38 39 40 41 42 43 44 46 47 48 49 50 51\n",
      "  52 53 54 55 57 58 59 60 61 62 64 65 66 67 68 69 70]\n",
      " [ 7  1  4  4  1  5  3  1  6  2  3  2  5  2  4  8  3  2  2  2  4  5  3  2\n",
      "   3  3  7  3  4  3  3  1  1  2  3  5  3  2  4  8  3  1  5  3  2  3  1  1\n",
      "   2  2  2  2  2  7  3  5  4  1  3  1  2  2  1  2  4]]\n"
     ]
    }
   ],
   "source": [
    "balls = data_s[['1', '2', '3', '4', '5']].values.flatten()\n",
    "unique, counts = np.unique(balls, return_counts=True)\n",
    "\n",
    "print(np.asarray((unique, counts)))"
   ]
  },
  {
   "cell_type": "code",
   "execution_count": 134,
   "metadata": {},
   "outputs": [
    {
     "data": {
      "image/png": "[encoded data removed]",
      "text/plain": [
       "<Figure size 432x288 with 1 Axes>"
      ]
     },
     "metadata": {},
     "output_type": "display_data"
    }
   ],
   "source": [
    "plt.hist(balls, bins = 70)\n",
    "plt.show()"
   ]
  },
  {
   "cell_type": "code",
   "execution_count": 138,
   "metadata": {},
   "outputs": [
    {
     "data": {
      "image/png": "[encoded data removed]",
      "text/plain": [
       "<Figure size 432x288 with 1 Axes>"
      ]
     },
     "metadata": {},
     "output_type": "display_data"
    }
   ],
   "source": [
    "plt.plot(data_s[['1', '2', '3', '4', '5']],linestyle=\"\",marker=\"o\")\n",
    "plt.show()"
   ]
  },
  {
   "cell_type": "code",
   "execution_count": 139,
   "metadata": {},
   "outputs": [
    {
     "ename": "NameError",
     "evalue": "name 'sort' is not defined",
     "output_type": "error",
     "traceback": [
      "\u001b[0;31m---------------------------------------------------------------------------\u001b[0m",
      "\u001b[0;31mNameError\u001b[0m                                 Traceback (most recent call last)",
      "\u001b[0;32m<ipython-input-139-1ebae97b136d>\u001b[0m in \u001b[0;36m<module>\u001b[0;34m()\u001b[0m\n\u001b[0;32m----> 1\u001b[0;31m \u001b[0mprint\u001b[0m\u001b[0;34m(\u001b[0m\u001b[0mdata_s\u001b[0m\u001b[0;34m[\u001b[0m\u001b[0;34m[\u001b[0m\u001b[0;34m'1'\u001b[0m\u001b[0;34m,\u001b[0m \u001b[0;34m'2'\u001b[0m\u001b[0;34m,\u001b[0m \u001b[0;34m'3'\u001b[0m\u001b[0;34m,\u001b[0m \u001b[0;34m'4'\u001b[0m\u001b[0;34m,\u001b[0m \u001b[0;34m'5'\u001b[0m\u001b[0;34m]\u001b[0m\u001b[0;34m]\u001b[0m\u001b[0;34m.\u001b[0m\u001b[0mapply\u001b[0m\u001b[0;34m(\u001b[0m\u001b[0msort\u001b[0m\u001b[0;34m)\u001b[0m\u001b[0;34m)\u001b[0m\u001b[0;34m\u001b[0m\u001b[0m\n\u001b[0m\u001b[1;32m      2\u001b[0m \u001b[0;34m\u001b[0m\u001b[0m\n",
      "\u001b[0;31mNameError\u001b[0m: name 'sort' is not defined"
     ]
    }
   ],
   "source": [
    "print(data_s[['1', '2', '3', '4', '5']].apply(sort))\n",
    "\n"
   ]
  },
  {
   "cell_type": "code",
   "execution_count": null,
   "metadata": {},
   "outputs": [],
   "source": []
  }
 ],
 "metadata": {
  "kernelspec": {
   "display_name": "Python 3",
   "language": "python",
   "name": "python3"
  },
  "language_info": {
   "codemirror_mode": {
    "name": "ipython",
    "version": 3
   },
   "file_extension": ".py",
   "mimetype": "text/x-python",
   "name": "python",
   "nbconvert_exporter": "python",
   "pygments_lexer": "ipython3",
   "version": "3.6.4"
  }
 },
 "nbformat": 4,
 "nbformat_minor": 2
}
